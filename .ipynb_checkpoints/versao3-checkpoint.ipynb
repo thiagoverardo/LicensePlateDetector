{
 "cells": [
  {
   "cell_type": "code",
   "execution_count": 70,
   "metadata": {},
   "outputs": [],
   "source": [
    "import numpy as np\n",
    "import cv2\n",
    "import imutils\n",
    "import pytesseract\n",
    "from skimage.segmentation import clear_border\n",
    "# to compute angles\n",
    "pytesseract.pytesseract.tesseract_cmd = r'C:\\Program Files\\Tesseract-OCR\\tesseract.exe'"
   ]
  },
  {
   "cell_type": "code",
   "execution_count": 71,
   "metadata": {},
   "outputs": [],
   "source": [
    "img = cv2.imread(\"test_images/image5.jpg\")\n",
    "cv2.imshow('Cropped',img)\n",
    "cv2.waitKey(0)\n",
    "cv2.destroyAllWindows()"
   ]
  },
  {
   "cell_type": "code",
   "execution_count": 72,
   "metadata": {},
   "outputs": [],
   "source": [
    "grey = cv2.cvtColor(img, cv2.COLOR_BGR2GRAY)\n",
    "\n",
    "cv2.imshow('Cropped',grey)\n",
    "cv2.waitKey(0)\n",
    "cv2.destroyAllWindows()\n",
    "\n",
    "rectKern = cv2.getStructuringElement(cv2.MORPH_RECT, (13, 5))\n",
    "blackhat = cv2.morphologyEx(grey, cv2.MORPH_BLACKHAT, rectKern) #blackhat morphological operation to reveal dark characters\n",
    "\n",
    "# next, find regions in the image that are light\n",
    "squareKern = cv2.getStructuringElement(cv2.MORPH_RECT, (3, 3))\n",
    "light = cv2.morphologyEx(grey, cv2.MORPH_CLOSE, squareKern)\n",
    "light = cv2.threshold(light, 0, 255, cv2.THRESH_BINARY | cv2.THRESH_OTSU)[1]\n"
   ]
  },
  {
   "cell_type": "code",
   "execution_count": 73,
   "metadata": {},
   "outputs": [],
   "source": [
    "# compute the Scharr gradient representation of the blackhat\n",
    "# image in the x-direction and then scale the result back to\n",
    "# the range [0, 255]\n",
    "gradX = cv2.Sobel(blackhat, ddepth=cv2.CV_32F, dx=1, dy=0, ksize=-1)\n",
    "gradX = np.absolute(gradX)\n",
    "(minVal, maxVal) = (np.min(gradX), np.max(gradX))\n",
    "gradX = 255 * ((gradX - minVal) / (maxVal - minVal))\n",
    "gradX = gradX.astype(\"uint8\")\n",
    "\n"
   ]
  },
  {
   "cell_type": "code",
   "execution_count": 74,
   "metadata": {},
   "outputs": [],
   "source": [
    "# blur the gradient representation, applying a closing\n",
    "# operation, and threshold the image using Otsu's method\n",
    "gradX = cv2.GaussianBlur(gradX, (5, 5), 0)\n",
    "gradX = cv2.morphologyEx(gradX, cv2.MORPH_CLOSE, rectKern)\n",
    "thresh = cv2.threshold(gradX, 0, 255, cv2.THRESH_BINARY | cv2.THRESH_OTSU)[1]"
   ]
  },
  {
   "cell_type": "code",
   "execution_count": 75,
   "metadata": {},
   "outputs": [],
   "source": [
    "# perform a series of erosions and dilations to clean up the\n",
    "# thresholded image\n",
    "thresh = cv2.erode(thresh, None, iterations=2)\n",
    "thresh = cv2.dilate(thresh, None, iterations=2)"
   ]
  },
  {
   "cell_type": "code",
   "execution_count": 76,
   "metadata": {},
   "outputs": [],
   "source": [
    "# take the bitwise AND between the threshold result and the\n",
    "# light regions of the image\n",
    "thresh = cv2.bitwise_and(thresh, thresh, mask=light)\n",
    "thresh = cv2.dilate(thresh, None, iterations=2)\n",
    "thresh = cv2.erode(thresh, None, iterations=1)\n",
    "\n",
    "# cv2.imshow('Cropped',thresh)\n",
    "# cv2.waitKey(0)\n",
    "# cv2.destroyAllWindows()"
   ]
  },
  {
   "cell_type": "code",
   "execution_count": 77,
   "metadata": {},
   "outputs": [],
   "source": [
    "cnts = cv2.findContours(thresh.copy(), cv2.RETR_EXTERNAL, cv2.CHAIN_APPROX_SIMPLE)\n",
    "cnts = imutils.grab_contours(cnts)\n",
    "cnts = sorted(cnts, key=cv2.contourArea, reverse=True)[:5] #We’ll only return up to this many sorted license plate candidate contours."
   ]
  },
  {
   "cell_type": "code",
   "execution_count": 78,
   "metadata": {},
   "outputs": [],
   "source": [
    "# initialize the license plate contour and ROI\n",
    "lpCnt = None\n",
    "roi = None\n",
    "minAR = 4\n",
    "maxAR = 6\n",
    "clearBorder = False\n",
    "# loop over the license plate candidate contours\n",
    "ar_list = []\n",
    "for c in cnts:\n",
    "    # compute the bounding box of the contour and then use\n",
    "    # the bounding box to derive the aspect ratio\n",
    "    (x, y, w, h) = cv2.boundingRect(c)\n",
    "    ar = w / float(h)\n",
    "    if ar >= minAR and ar <= maxAR:\n",
    "    # store the license plate contour and extract the\n",
    "    # license plate from the grayscale image and then\n",
    "    # threshold it\n",
    "        lpCnt = c\n",
    "        licensePlate = grey[y:y + h, x:x + w]\n",
    "        roi = cv2.threshold(licensePlate, 0, 255, cv2.THRESH_BINARY_INV | cv2.THRESH_OTSU)[1]\n",
    "        # check to see if we should clear any foreground\n",
    "        # pixels touching the border of the image\n",
    "        # (which typically, not but always, indicates noise)\n",
    "        if clearBorder:\n",
    "            roi = clear_border(roi)\n",
    "        # display any debugging information and then break\n",
    "        # from the loop early since we have found the license\n",
    "        # plate region\n",
    "#         cv2.imshow('Cropped',licensePlate)\n",
    "#         cv2.waitKey(0)\n",
    "#         cv2.destroyAllWindows()\n",
    "#         cv2.imshow('ROI',roi)\n",
    "#         cv2.waitKey(0)\n",
    "#         cv2.destroyAllWindows()\n",
    "        break\n"
   ]
  },
  {
   "cell_type": "code",
   "execution_count": 80,
   "metadata": {},
   "outputs": [],
   "source": [
    "# tell Tesseract to only OCR alphanumeric characters\n",
    "alphanumeric = \"ABCDEFGHIJKLMNOPQRSTUVWXYZ0123456789\"\n",
    "options = \"-c tessedit_char_whitelist={}\".format(alphanumeric)\n",
    "# set the PSM mode\n",
    "options += \" --psm {}\".format(7)\n",
    "# return the built options string"
   ]
  },
  {
   "cell_type": "code",
   "execution_count": 88,
   "metadata": {},
   "outputs": [],
   "source": [
    "# initialize the license plate text\n",
    "lpText = None\n",
    "if roi is not None:\n",
    "    # OCR the license plate\n",
    "    lpText = pytesseract.image_to_string(licensePlate, config=options)\n",
    "    cv2.imshow(lpText,licensePlate)\n",
    "    cv2.waitKey(0)\n",
    "    cv2.destroyAllWindows()\n",
    "# return a 2-tuple of the OCR'd license plate text along with\n",
    "# the contour associated with the license plate region"
   ]
  },
  {
   "cell_type": "code",
   "execution_count": null,
   "metadata": {},
   "outputs": [],
   "source": []
  }
 ],
 "metadata": {
  "kernelspec": {
   "display_name": "Python 3",
   "language": "python",
   "name": "python3"
  },
  "language_info": {
   "codemirror_mode": {
    "name": "ipython",
    "version": 3
   },
   "file_extension": ".py",
   "mimetype": "text/x-python",
   "name": "python",
   "nbconvert_exporter": "python",
   "pygments_lexer": "ipython3",
   "version": "3.8.3"
  }
 },
 "nbformat": 4,
 "nbformat_minor": 4
}
