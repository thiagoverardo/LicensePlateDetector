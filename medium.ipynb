{
 "cells": [
  {
   "cell_type": "code",
   "execution_count": 1,
   "metadata": {},
   "outputs": [],
   "source": [
    "import cv2\n",
    "import imutils\n",
    "import numpy as np\n",
    "import pytesseract\n",
    "pytesseract.pytesseract.tesseract_cmd = r'C:\\Program Files (x86)\\Tesseract-OCR\\tesseract.exe'\n"
   ]
  },
  {
   "cell_type": "code",
   "execution_count": 2,
   "metadata": {},
   "outputs": [
    {
     "name": "stdout",
     "output_type": "stream",
     "text": [
      "No contour detected\n",
      "No contour detected\n",
      "No contour detected\n",
      "No contour detected\n",
      "No contour detected\n",
      "No contour detected\n",
      "No contour detected\n"
     ]
    }
   ],
   "source": [
    "for i in range(1, 20):\n",
    "\n",
    "    img    = cv2.imread(f\"archive/images/Cars{i}.png\")\n",
    "    # cv2.imshow('HelloWorld', img)\n",
    "    grey = cv2.cvtColor(img, cv2.COLOR_BGR2GRAY)\n",
    "    gray = cv2.bilateralFilter(grey, 13, 15, 15) \n",
    "\n",
    "\n",
    "\n",
    "    edged = cv2.Canny(gray, 30, 200) \n",
    "    contours = cv2.findContours(edged.copy(), cv2.RETR_TREE, cv2.CHAIN_APPROX_SIMPLE)\n",
    "    contours = imutils.grab_contours(contours)\n",
    "    contours = sorted(contours, key = cv2.contourArea, reverse = True)[:10]\n",
    "    screenCnt = None\n",
    "\n",
    "\n",
    "    for c in contours:\n",
    "        \n",
    "        peri = cv2.arcLength(c, True)\n",
    "        approx = cv2.approxPolyDP(c, 0.018 * peri, True)\n",
    "\n",
    "        if len(approx) == 4:\n",
    "            screenCnt = approx\n",
    "            break\n",
    "\n",
    "\n",
    "    if screenCnt is None:\n",
    "        detected = 0\n",
    "        print (\"No contour detected\")\n",
    "        continue\n",
    "        \n",
    "    else:\n",
    "        detected = 1\n",
    "\n",
    "    if detected == 1:\n",
    "        cv2.drawContours(img, [screenCnt], -1, (0, 0, 255), 3)\n",
    "\n",
    "    mask = np.zeros(gray.shape,np.uint8)\n",
    "    new_image = cv2.drawContours(mask,[screenCnt],0,255,-1,)\n",
    "    new_image = cv2.bitwise_and(img,img,mask=mask)\n",
    "\n",
    "    # (x, y) = np.where(mask == 255)\n",
    "    # (topx, topy) = (np.min(x), np.min(y))\n",
    "    # (bottomx, bottomy) = (np.max(x), np.max(y))\n",
    "    # Cropped = gray[topx:bottomx+1, topy:bottomy+1]\n",
    "\n",
    "    # text = pytesseract.image_to_string(Cropped)\n",
    "    # print(\"programming_fever's License Plate Recognition\\n\")\n",
    "    # print(\"Detected license plate Number is:\",text)\n",
    "    # img = cv2.resize(img,(500,300))\n",
    "    # Cropped = cv2.resize(Cropped,(400,200))\n",
    "    # cv2.imshow('car',img)\n",
    "    # cv2.imshow('Cropped',Cropped)\n",
    "\n",
    "    # cv2.waitKey(0)\n",
    "    # cv2.destroyAllWindows()"
   ]
  },
  {
   "cell_type": "code",
   "execution_count": 5,
   "metadata": {},
   "outputs": [],
   "source": [
    "import time\n",
    "\n",
    "cap = cv2.VideoCapture('Traffic_Camera.avi')\n",
    "# Show the first 5 video frames\n",
    "for i in range(5):\n",
    "# Se quiser mostrar todos os frames do vídeo, basta usar o loop comentado  \n",
    "# while cap.isOpened():\n",
    "\n",
    "    ret, frame = cap.read()\n",
    "    # if frame is read correctly ret is True\n",
    "\n",
    "    if not ret:\n",
    "        print(\"Can't receive frame (stream end?). Exiting ...\")\n",
    "        break\n",
    "\n",
    "    cv2.imshow('frame',frame)\n",
    "    cv2.waitKey(0)\n",
    "    cv2.destroyAllWindows()\n",
    "cap.release()"
   ]
  },
  {
   "cell_type": "code",
   "execution_count": null,
   "metadata": {},
   "outputs": [],
   "source": []
  }
 ],
 "metadata": {
  "interpreter": {
   "hash": "9d62803a1cbd2182104a1183605f86308b1943107a6ea7d89939a22c783e6f48"
  },
  "kernelspec": {
   "display_name": "Python 3.8.4 64-bit",
   "language": "python",
   "name": "python3"
  },
  "language_info": {
   "codemirror_mode": {
    "name": "ipython",
    "version": 3
   },
   "file_extension": ".py",
   "mimetype": "text/x-python",
   "name": "python",
   "nbconvert_exporter": "python",
   "pygments_lexer": "ipython3",
   "version": "3.8.4"
  },
  "orig_nbformat": 4
 },
 "nbformat": 4,
 "nbformat_minor": 2
}
